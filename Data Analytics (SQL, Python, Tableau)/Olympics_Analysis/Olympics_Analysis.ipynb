{
 "cells": [
  {
   "cell_type": "markdown",
   "metadata": {
    "id": "0wB3bGTjGyoF"
   },
   "source": [
    "![](https://upload.wikimedia.org/wikipedia/commons/thumb/7/77/IOC_Logo.svg/2341px-IOC_Logo.svg.png)\n",
    "\n",
    "# Introduction\n",
    "\n",
    "Welcome to your first day as an analyst working for the IOC! The IOC is at the very heart of world sport, supporting every Olympic Movement stakeholder, promoting Olympism worldwide, and overseeing the regular celebration of the Olympic Games.\n",
    "\n",
    "For a moment of glory on the medalist podium, elite athletes dedicate *everything* to their sport. Olympics medalists from 1896 through 2016 comprise the dataset you'll be working with. Who are the youngest and oldest medalists of all time? Are there physical differences between Summer Olympics medalists and Winter Olympics medalists? You're about to use your data coding chops to find out!\n",
    "\n",
    "You'll start this Milestone assignment by cleaning and filtering the data. So many of your Python skills that you've learned so far will be at play. Are you up for it? Let's go!\n",
    "\n",
    "### Dataset Description\n",
    "\n",
    "The dataset is stored in a .csv file named `olympics.csv`. It contains the following columns:\n",
    "\n",
    "* **ID**: A unique identifying number of each athlete\n",
    "* **Name**: The name of each athlete\n",
    "* **Sex**: M or F\n",
    "* **Age**: The age of an athlete, in years, at the time they competed.\n",
    "* **Height**: The height of an athlete, in centimeters\n",
    "* **Weight**: The weight of an athlete, in kilograms\n",
    "* **Team**: The name of the athlete’s team. Not always the name of a country.\n",
    "* **NOC**: National Olympic Committee’s 3 letter code\n",
    "* **Games**: Year and season\n",
    "* **Season**: Summer or Winter\n",
    "* **City**: Host city\n",
    "* **Sport**: The sport or category of an olympic event/activity\n",
    "* **Event**: specific event within a sport, e.g. Men’s 400 meters breaststroke.\n",
    "* **Medal**: Gold, Silver, Bronze\n",
    "* **Region**: Name of athlete’s country\n",
    "\n"
   ]
  },
  {
   "cell_type": "markdown",
   "metadata": {
    "id": "Gm4vWqYdMH5s"
   },
   "source": [
    "# Task 1: Data Inspection\n",
    "\n",
    "![](https://media.giphy.com/media/42wQXwITfQbDGKqUP7/giphy.gif)"
   ]
  },
  {
   "cell_type": "code",
   "execution_count": 60,
   "metadata": {
    "id": "TgSpacNhGp1b"
   },
   "outputs": [],
   "source": [
    "# import the pandas library\n",
    "import pandas as pd"
   ]
  },
  {
   "cell_type": "code",
   "execution_count": 61,
   "metadata": {
    "id": "N41nUAsDGp1e"
   },
   "outputs": [],
   "source": [
    "# Load in the data\n",
    "od = pd.read_csv('datasets/olympics.csv')"
   ]
  },
  {
   "cell_type": "code",
   "execution_count": 62,
   "metadata": {
    "id": "C1SZ71lXGp1f"
   },
   "outputs": [
    {
     "data": {
      "text/html": [
       "<div>\n",
       "<style scoped>\n",
       "    .dataframe tbody tr th:only-of-type {\n",
       "        vertical-align: middle;\n",
       "    }\n",
       "\n",
       "    .dataframe tbody tr th {\n",
       "        vertical-align: top;\n",
       "    }\n",
       "\n",
       "    .dataframe thead th {\n",
       "        text-align: right;\n",
       "    }\n",
       "</style>\n",
       "<table border=\"1\" class=\"dataframe\">\n",
       "  <thead>\n",
       "    <tr style=\"text-align: right;\">\n",
       "      <th></th>\n",
       "      <th>ID</th>\n",
       "      <th>Name</th>\n",
       "      <th>Sex</th>\n",
       "      <th>Age</th>\n",
       "      <th>Height</th>\n",
       "      <th>Weight</th>\n",
       "      <th>Team</th>\n",
       "      <th>NOC</th>\n",
       "      <th>Games</th>\n",
       "      <th>Year</th>\n",
       "      <th>Season</th>\n",
       "      <th>City</th>\n",
       "      <th>Sport</th>\n",
       "      <th>Event</th>\n",
       "      <th>Medal</th>\n",
       "      <th>region</th>\n",
       "    </tr>\n",
       "  </thead>\n",
       "  <tbody>\n",
       "    <tr>\n",
       "      <th>0</th>\n",
       "      <td>4</td>\n",
       "      <td>Edgar Lindenau Aabye</td>\n",
       "      <td>M</td>\n",
       "      <td>34.0</td>\n",
       "      <td>NaN</td>\n",
       "      <td>NaN</td>\n",
       "      <td>Denmark/Sweden</td>\n",
       "      <td>DEN</td>\n",
       "      <td>1900 Summer</td>\n",
       "      <td>1900</td>\n",
       "      <td>Summer</td>\n",
       "      <td>Paris</td>\n",
       "      <td>Tug-Of-War</td>\n",
       "      <td>Tug-Of-War Men's Tug-Of-War</td>\n",
       "      <td>Gold</td>\n",
       "      <td>Denmark</td>\n",
       "    </tr>\n",
       "    <tr>\n",
       "      <th>1</th>\n",
       "      <td>15</td>\n",
       "      <td>Arvo Ossian Aaltonen</td>\n",
       "      <td>M</td>\n",
       "      <td>30.0</td>\n",
       "      <td>NaN</td>\n",
       "      <td>NaN</td>\n",
       "      <td>Finland</td>\n",
       "      <td>FIN</td>\n",
       "      <td>1920 Summer</td>\n",
       "      <td>1920</td>\n",
       "      <td>Summer</td>\n",
       "      <td>Antwerpen</td>\n",
       "      <td>Swimming</td>\n",
       "      <td>Swimming Men's 200 metres Breaststroke</td>\n",
       "      <td>Bronze</td>\n",
       "      <td>Finland</td>\n",
       "    </tr>\n",
       "    <tr>\n",
       "      <th>2</th>\n",
       "      <td>15</td>\n",
       "      <td>Arvo Ossian Aaltonen</td>\n",
       "      <td>M</td>\n",
       "      <td>30.0</td>\n",
       "      <td>NaN</td>\n",
       "      <td>NaN</td>\n",
       "      <td>Finland</td>\n",
       "      <td>FIN</td>\n",
       "      <td>1920 Summer</td>\n",
       "      <td>1920</td>\n",
       "      <td>Summer</td>\n",
       "      <td>Antwerpen</td>\n",
       "      <td>Swimming</td>\n",
       "      <td>Swimming Men's 400 metres Breaststroke</td>\n",
       "      <td>Bronze</td>\n",
       "      <td>Finland</td>\n",
       "    </tr>\n",
       "    <tr>\n",
       "      <th>3</th>\n",
       "      <td>16</td>\n",
       "      <td>Juhamatti Tapio Aaltonen</td>\n",
       "      <td>M</td>\n",
       "      <td>28.0</td>\n",
       "      <td>184.0</td>\n",
       "      <td>85.0</td>\n",
       "      <td>Finland</td>\n",
       "      <td>FIN</td>\n",
       "      <td>2014 Winter</td>\n",
       "      <td>2014</td>\n",
       "      <td>Winter</td>\n",
       "      <td>Sochi</td>\n",
       "      <td>Ice Hockey</td>\n",
       "      <td>Ice Hockey Men's Ice Hockey</td>\n",
       "      <td>Bronze</td>\n",
       "      <td>Finland</td>\n",
       "    </tr>\n",
       "    <tr>\n",
       "      <th>4</th>\n",
       "      <td>17</td>\n",
       "      <td>Paavo Johannes Aaltonen</td>\n",
       "      <td>M</td>\n",
       "      <td>28.0</td>\n",
       "      <td>175.0</td>\n",
       "      <td>64.0</td>\n",
       "      <td>Finland</td>\n",
       "      <td>FIN</td>\n",
       "      <td>1948 Summer</td>\n",
       "      <td>1948</td>\n",
       "      <td>Summer</td>\n",
       "      <td>London</td>\n",
       "      <td>Gymnastics</td>\n",
       "      <td>Gymnastics Men's Individual All-Around</td>\n",
       "      <td>Bronze</td>\n",
       "      <td>Finland</td>\n",
       "    </tr>\n",
       "  </tbody>\n",
       "</table>\n",
       "</div>"
      ],
      "text/plain": [
       "   ID                      Name Sex   Age  Height  Weight            Team  \\\n",
       "0   4      Edgar Lindenau Aabye   M  34.0     NaN     NaN  Denmark/Sweden   \n",
       "1  15      Arvo Ossian Aaltonen   M  30.0     NaN     NaN         Finland   \n",
       "2  15      Arvo Ossian Aaltonen   M  30.0     NaN     NaN         Finland   \n",
       "3  16  Juhamatti Tapio Aaltonen   M  28.0   184.0    85.0         Finland   \n",
       "4  17   Paavo Johannes Aaltonen   M  28.0   175.0    64.0         Finland   \n",
       "\n",
       "   NOC        Games  Year  Season       City       Sport  \\\n",
       "0  DEN  1900 Summer  1900  Summer      Paris  Tug-Of-War   \n",
       "1  FIN  1920 Summer  1920  Summer  Antwerpen    Swimming   \n",
       "2  FIN  1920 Summer  1920  Summer  Antwerpen    Swimming   \n",
       "3  FIN  2014 Winter  2014  Winter      Sochi  Ice Hockey   \n",
       "4  FIN  1948 Summer  1948  Summer     London  Gymnastics   \n",
       "\n",
       "                                    Event   Medal   region  \n",
       "0             Tug-Of-War Men's Tug-Of-War    Gold  Denmark  \n",
       "1  Swimming Men's 200 metres Breaststroke  Bronze  Finland  \n",
       "2  Swimming Men's 400 metres Breaststroke  Bronze  Finland  \n",
       "3             Ice Hockey Men's Ice Hockey  Bronze  Finland  \n",
       "4  Gymnastics Men's Individual All-Around  Bronze  Finland  "
      ]
     },
     "execution_count": 62,
     "metadata": {},
     "output_type": "execute_result"
    }
   ],
   "source": [
    "# Preview DataFrame\n",
    "od.head()"
   ]
  },
  {
   "cell_type": "code",
   "execution_count": 63,
   "metadata": {
    "id": "PPjVwwKKGp1h"
   },
   "outputs": [
    {
     "data": {
      "text/plain": [
       "(39783, 16)"
      ]
     },
     "execution_count": 63,
     "metadata": {},
     "output_type": "execute_result"
    }
   ],
   "source": [
    "# Inspect the numbers of rows and columns\n",
    "od.shape"
   ]
  },
  {
   "cell_type": "code",
   "execution_count": 64,
   "metadata": {
    "id": "3VoFS4qhGp1h"
   },
   "outputs": [
    {
     "data": {
      "text/plain": [
       "Index(['ID', 'Name', 'Sex', 'Age', 'Height', 'Weight', 'Team', 'NOC', 'Games',\n",
       "       'Year', 'Season', 'City', 'Sport', 'Event', 'Medal', 'region'],\n",
       "      dtype='object')"
      ]
     },
     "execution_count": 64,
     "metadata": {},
     "output_type": "execute_result"
    }
   ],
   "source": [
    "# Inspect column names\n",
    "od.columns"
   ]
  },
  {
   "cell_type": "code",
   "execution_count": 65,
   "metadata": {
    "id": "9AhuNK0HGp1i"
   },
   "outputs": [
    {
     "name": "stdout",
     "output_type": "stream",
     "text": [
      "<class 'pandas.core.frame.DataFrame'>\n",
      "RangeIndex: 39783 entries, 0 to 39782\n",
      "Data columns (total 16 columns):\n",
      " #   Column  Non-Null Count  Dtype  \n",
      "---  ------  --------------  -----  \n",
      " 0   ID      39783 non-null  int64  \n",
      " 1   Name    39783 non-null  object \n",
      " 2   Sex     39783 non-null  object \n",
      " 3   Age     39051 non-null  float64\n",
      " 4   Height  31072 non-null  float64\n",
      " 5   Weight  30456 non-null  float64\n",
      " 6   Team    39783 non-null  object \n",
      " 7   NOC     39783 non-null  object \n",
      " 8   Games   39783 non-null  object \n",
      " 9   Year    39783 non-null  int64  \n",
      " 10  Season  39783 non-null  object \n",
      " 11  City    39783 non-null  object \n",
      " 12  Sport   39783 non-null  object \n",
      " 13  Event   39783 non-null  object \n",
      " 14  Medal   39783 non-null  object \n",
      " 15  region  39774 non-null  object \n",
      "dtypes: float64(3), int64(2), object(11)\n",
      "memory usage: 4.9+ MB\n"
     ]
    }
   ],
   "source": [
    "# Inspect column data types, memory usage, etc.\n",
    "od.info()"
   ]
  },
  {
   "cell_type": "code",
   "execution_count": 66,
   "metadata": {
    "id": "f1mLllODGp1i"
   },
   "outputs": [
    {
     "data": {
      "text/html": [
       "<div>\n",
       "<style scoped>\n",
       "    .dataframe tbody tr th:only-of-type {\n",
       "        vertical-align: middle;\n",
       "    }\n",
       "\n",
       "    .dataframe tbody tr th {\n",
       "        vertical-align: top;\n",
       "    }\n",
       "\n",
       "    .dataframe thead th {\n",
       "        text-align: right;\n",
       "    }\n",
       "</style>\n",
       "<table border=\"1\" class=\"dataframe\">\n",
       "  <thead>\n",
       "    <tr style=\"text-align: right;\">\n",
       "      <th></th>\n",
       "      <th>ID</th>\n",
       "      <th>Age</th>\n",
       "      <th>Height</th>\n",
       "      <th>Weight</th>\n",
       "      <th>Year</th>\n",
       "    </tr>\n",
       "  </thead>\n",
       "  <tbody>\n",
       "    <tr>\n",
       "      <th>count</th>\n",
       "      <td>39783.000000</td>\n",
       "      <td>39051.000000</td>\n",
       "      <td>31072.000000</td>\n",
       "      <td>30456.000000</td>\n",
       "      <td>39783.000000</td>\n",
       "    </tr>\n",
       "    <tr>\n",
       "      <th>mean</th>\n",
       "      <td>69407.051806</td>\n",
       "      <td>25.925175</td>\n",
       "      <td>177.554197</td>\n",
       "      <td>73.770680</td>\n",
       "      <td>1973.943845</td>\n",
       "    </tr>\n",
       "    <tr>\n",
       "      <th>std</th>\n",
       "      <td>38849.980737</td>\n",
       "      <td>5.914026</td>\n",
       "      <td>10.893723</td>\n",
       "      <td>15.016025</td>\n",
       "      <td>33.822857</td>\n",
       "    </tr>\n",
       "    <tr>\n",
       "      <th>min</th>\n",
       "      <td>4.000000</td>\n",
       "      <td>10.000000</td>\n",
       "      <td>136.000000</td>\n",
       "      <td>28.000000</td>\n",
       "      <td>1896.000000</td>\n",
       "    </tr>\n",
       "    <tr>\n",
       "      <th>25%</th>\n",
       "      <td>36494.000000</td>\n",
       "      <td>22.000000</td>\n",
       "      <td>170.000000</td>\n",
       "      <td>63.000000</td>\n",
       "      <td>1952.000000</td>\n",
       "    </tr>\n",
       "    <tr>\n",
       "      <th>50%</th>\n",
       "      <td>68990.000000</td>\n",
       "      <td>25.000000</td>\n",
       "      <td>178.000000</td>\n",
       "      <td>73.000000</td>\n",
       "      <td>1984.000000</td>\n",
       "    </tr>\n",
       "    <tr>\n",
       "      <th>75%</th>\n",
       "      <td>103461.500000</td>\n",
       "      <td>29.000000</td>\n",
       "      <td>185.000000</td>\n",
       "      <td>83.000000</td>\n",
       "      <td>2002.000000</td>\n",
       "    </tr>\n",
       "    <tr>\n",
       "      <th>max</th>\n",
       "      <td>135563.000000</td>\n",
       "      <td>73.000000</td>\n",
       "      <td>223.000000</td>\n",
       "      <td>182.000000</td>\n",
       "      <td>2016.000000</td>\n",
       "    </tr>\n",
       "  </tbody>\n",
       "</table>\n",
       "</div>"
      ],
      "text/plain": [
       "                  ID           Age        Height        Weight          Year\n",
       "count   39783.000000  39051.000000  31072.000000  30456.000000  39783.000000\n",
       "mean    69407.051806     25.925175    177.554197     73.770680   1973.943845\n",
       "std     38849.980737      5.914026     10.893723     15.016025     33.822857\n",
       "min         4.000000     10.000000    136.000000     28.000000   1896.000000\n",
       "25%     36494.000000     22.000000    170.000000     63.000000   1952.000000\n",
       "50%     68990.000000     25.000000    178.000000     73.000000   1984.000000\n",
       "75%    103461.500000     29.000000    185.000000     83.000000   2002.000000\n",
       "max    135563.000000     73.000000    223.000000    182.000000   2016.000000"
      ]
     },
     "execution_count": 66,
     "metadata": {},
     "output_type": "execute_result"
    }
   ],
   "source": [
    "# Display a statistical summary of the data\n",
    "od.describe()"
   ]
  },
  {
   "cell_type": "code",
   "execution_count": 67,
   "metadata": {
    "id": "jS02gtfNGp1j"
   },
   "outputs": [
    {
     "data": {
      "text/plain": [
       "array(['Gold', 'Bronze', 'Silver'], dtype=object)"
      ]
     },
     "execution_count": 67,
     "metadata": {},
     "output_type": "execute_result"
    }
   ],
   "source": [
    "# What types of medals are there?\n",
    "od['Medal'].unique()"
   ]
  },
  {
   "cell_type": "markdown",
   "metadata": {
    "id": "SQ8I76OxGp1j"
   },
   "source": [
    "# Task 2: Data Cleaning\n",
    "\n",
    "![](https://media.giphy.com/media/10zsjaH4g0GgmY/giphy.gif)"
   ]
  },
  {
   "cell_type": "code",
   "execution_count": 68,
   "metadata": {
    "id": "LRX6j6NRGp1k"
   },
   "outputs": [
    {
     "name": "stdout",
     "output_type": "stream",
     "text": [
      "Index(['ID', 'Name', 'Sex', 'Age', 'Height', 'Weight', 'Team', 'CountryCode',\n",
      "       'Games', 'Year', 'Season', 'City', 'Sport', 'Event', 'Medal',\n",
      "       'Country'],\n",
      "      dtype='object')\n"
     ]
    }
   ],
   "source": [
    "# Rename 'NOC' column to 'CountryCode'\n",
    "# Rename 'region' column to 'Country'\n",
    "od = od.rename(columns={'NOC':'CountryCode', 'region':'Country'})\n",
    "print(od.columns)"
   ]
  },
  {
   "cell_type": "code",
   "execution_count": 69,
   "metadata": {
    "id": "BCdBy9DtGp1k"
   },
   "outputs": [
    {
     "name": "stdout",
     "output_type": "stream",
     "text": [
      "Index(['ID', 'Name', 'Sex', 'Age', 'Height', 'Weight', 'CountryCode', 'Games',\n",
      "       'Year', 'Season', 'City', 'Sport', 'Event', 'Medal', 'Country'],\n",
      "      dtype='object')\n"
     ]
    }
   ],
   "source": [
    "# Remove the 'Team' column\n",
    "od = od.drop(columns=['Team'])\n",
    "print(od.columns)"
   ]
  },
  {
   "cell_type": "markdown",
   "metadata": {
    "id": "5Zb5hLm2Gp1k"
   },
   "source": [
    "# Task 3: Data Analysis\n",
    "\n",
    "![](https://media.giphy.com/media/MT5UUV1d4CXE2A37Dg/giphy.gif)"
   ]
  },
  {
   "cell_type": "code",
   "execution_count": 70,
   "metadata": {
    "id": "EjeEAadQGp1l"
   },
   "outputs": [
    {
     "name": "stdout",
     "output_type": "stream",
     "text": [
      "10.0\n"
     ]
    }
   ],
   "source": [
    "# What is the youngest age of an Olympics medalist?\n",
    "youngest = od['Age'].min()\n",
    "print(youngest)"
   ]
  },
  {
   "cell_type": "code",
   "execution_count": 71,
   "metadata": {
    "id": "BFafWEgJGp1l"
   },
   "outputs": [
    {
     "name": "stdout",
     "output_type": "stream",
     "text": [
      "73.0\n"
     ]
    }
   ],
   "source": [
    "# What is the oldest age of an Olympics medalist?\n",
    "oldest = od['Age'].max()\n",
    "print(oldest)"
   ]
  },
  {
   "cell_type": "code",
   "execution_count": 72,
   "metadata": {
    "id": "X0QbfippGp1l"
   },
   "outputs": [
    {
     "name": "stdout",
     "output_type": "stream",
     "text": [
      "Gold      13372\n",
      "Bronze    13295\n",
      "Silver    13116\n",
      "Name: Medal, dtype: int64\n"
     ]
    }
   ],
   "source": [
    "# How many of each medal were awarded?\n",
    "medals = od['Medal'].value_counts()\n",
    "print(mt)"
   ]
  },
  {
   "cell_type": "code",
   "execution_count": 73,
   "metadata": {
    "id": "aLKoJmb7Gp1m"
   },
   "outputs": [
    {
     "name": "stdout",
     "output_type": "stream",
     "text": [
      "756\n"
     ]
    }
   ],
   "source": [
    "# How many events are there?\n",
    "events = od['Event'].nunique()\n",
    "print(el)"
   ]
  },
  {
   "cell_type": "code",
   "execution_count": 74,
   "metadata": {
    "id": "O0BoABdUGp1m"
   },
   "outputs": [
    {
     "name": "stdout",
     "output_type": "stream",
     "text": [
      "66\n"
     ]
    }
   ],
   "source": [
    "# How many sports are there?\n",
    "sports = od['Sport'].nunique()\n",
    "print(sports)"
   ]
  },
  {
   "cell_type": "code",
   "execution_count": 75,
   "metadata": {
    "id": "3bCZjivrGp1m"
   },
   "outputs": [
    {
     "name": "stdout",
     "output_type": "stream",
     "text": [
      "25.925174771452717\n"
     ]
    }
   ],
   "source": [
    "# What is the average age of an Olympics medalist?\n",
    "average_age = od['Age'].mean()\n",
    "print(average_age)"
   ]
  },
  {
   "cell_type": "code",
   "execution_count": 76,
   "metadata": {
    "id": "zNpTSGtpGp1m"
   },
   "outputs": [
    {
     "name": "stdout",
     "output_type": "stream",
     "text": [
      "Art Competitions    5\n",
      "Sailing             3\n",
      "Shooting            1\n",
      "Archery             1\n",
      "Name: Sport, dtype: int64\n"
     ]
    }
   ],
   "source": [
    "# Among the 10 oldest medalists, what are the most common sports?\n",
    "\n",
    "old10 = od.nlargest(10,'Age')\n",
    "print(old10['Sport'].value_counts())"
   ]
  },
  {
   "cell_type": "code",
   "execution_count": 79,
   "metadata": {
    "id": "EDznIem9Gp1n"
   },
   "outputs": [
    {
     "name": "stdout",
     "output_type": "stream",
     "text": [
      "Country\n",
      "USA          5637\n",
      "Russia       3947\n",
      "Germany      3756\n",
      "UK           2068\n",
      "France       1777\n",
      "Italy        1637\n",
      "Sweden       1536\n",
      "Canada       1352\n",
      "Australia    1349\n",
      "Hungary      1135\n",
      "Name: Medal, dtype: int64\n"
     ]
    }
   ],
   "source": [
    "# What are the 10 winningest countries in total medal count?\n",
    "\n",
    "medal10 = od.groupby('Country')['Medal'].count()\n",
    "top10 = medal10.sort_values(ascending=False).head(10)\n",
    "print(top10)"
   ]
  },
  {
   "cell_type": "code",
   "execution_count": 87,
   "metadata": {
    "id": "EHZWAnPTGp1n"
   },
   "outputs": [
    {
     "name": "stdout",
     "output_type": "stream",
     "text": [
      "30\n"
     ]
    }
   ],
   "source": [
    "# How many medals have been awarded in the sport of trampolining?\n",
    "\n",
    "t = od[od['Sport'] == 'Trampolining']\n",
    "tm = t['Medal'].count()\n",
    "print(tm)"
   ]
  },
  {
   "cell_type": "markdown",
   "metadata": {
    "id": "ZCYOlu_rGp1n"
   },
   "source": [
    "# Level Up\n",
    "\n",
    "![](https://media.giphy.com/media/YYaapBJ7UAZp9DJS7o/giphy.gif)\n",
    "\n",
    "Want to Level Up your practice? We love to see it! Take a crack at some of these extra challenges, including visualizing some of this here data."
   ]
  },
  {
   "cell_type": "code",
   "execution_count": null,
   "metadata": {
    "id": "lMXzRdowGp1n"
   },
   "outputs": [],
   "source": [
    "# How many gold medals were awarded to the United States?\n"
   ]
  },
  {
   "cell_type": "code",
   "execution_count": null,
   "metadata": {
    "id": "qw0xCEBcGp1n"
   },
   "outputs": [],
   "source": [
    "# List the Olympics in dataset, starting with the most recent\n"
   ]
  },
  {
   "cell_type": "code",
   "execution_count": null,
   "metadata": {
    "id": "F06h7LoZGp1o"
   },
   "outputs": [],
   "source": [
    "# Average medalist height in the most recent Winter Olympics\n"
   ]
  },
  {
   "cell_type": "code",
   "execution_count": null,
   "metadata": {
    "id": "JM4p-KcwX4SN"
   },
   "outputs": [],
   "source": [
    "# Average medalist weight in the most recent Winter Olympics\n"
   ]
  },
  {
   "cell_type": "code",
   "execution_count": null,
   "metadata": {
    "id": "gp80aZ4MGp1o"
   },
   "outputs": [],
   "source": [
    "# Average medalist height in the most recent Summer Olympics\n"
   ]
  },
  {
   "cell_type": "code",
   "execution_count": null,
   "metadata": {
    "id": "FhaUwoiCYONm"
   },
   "outputs": [],
   "source": [
    "# Average medalist weight in the most recent Summer Olympics\n"
   ]
  },
  {
   "cell_type": "code",
   "execution_count": null,
   "metadata": {
    "id": "fk958EO5Gp1o"
   },
   "outputs": [],
   "source": [
    "# Import plotly express library\n"
   ]
  },
  {
   "cell_type": "code",
   "execution_count": null,
   "metadata": {
    "id": "_cCbpCemGp1o"
   },
   "outputs": [],
   "source": [
    "# Assign top 10 winningest countries table to a variable\n",
    "# You did this in task 3\n"
   ]
  },
  {
   "cell_type": "code",
   "execution_count": null,
   "metadata": {
    "id": "GKJw99hAGp1o"
   },
   "outputs": [],
   "source": [
    "# Visualize the table as a bar chart\n"
   ]
  },
  {
   "cell_type": "code",
   "execution_count": null,
   "metadata": {
    "id": "g4-melLaGp1p"
   },
   "outputs": [],
   "source": []
  }
 ],
 "metadata": {
  "colab": {
   "provenance": []
  },
  "kernelspec": {
   "display_name": "Python 3 (ipykernel)",
   "language": "python",
   "name": "python3"
  },
  "language_info": {
   "codemirror_mode": {
    "name": "ipython",
    "version": 3
   },
   "file_extension": ".py",
   "mimetype": "text/x-python",
   "name": "python",
   "nbconvert_exporter": "python",
   "pygments_lexer": "ipython3",
   "version": "3.10.6"
  },
  "nteract": {
   "version": "0.28.0"
  }
 },
 "nbformat": 4,
 "nbformat_minor": 4
}
